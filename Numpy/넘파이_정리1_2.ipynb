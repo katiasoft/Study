{
  "nbformat": 4,
  "nbformat_minor": 0,
  "metadata": {
    "colab": {
      "name": "넘파이 정리1-2.ipynb",
      "provenance": [],
      "collapsed_sections": []
    },
    "kernelspec": {
      "name": "python3",
      "display_name": "Python 3"
    }
  },
  "cells": [
    {
      "cell_type": "markdown",
      "metadata": {
        "id": "gN9YiamTm8df",
        "colab_type": "text"
      },
      "source": [
        "## 넘파이(Numpy)를 사용하는 이유\n",
        "\n",
        "### 1. 파이썬의 넘파이(Numpy)는\n",
        "* 배열을 쉽게 처리할 수 있도록 지원하는 파이썬의 패키지이다.\n",
        "* 수치 계산을 위해 효율적으로 구현된 기능을 제공한다.\n",
        "* 대규모 다차원 배열 데이터를 빠르고 효율적으로 사용한다.\n",
        "\n",
        "### 2. 넘파이(Numpy)의 장점\n",
        "* 빠르다. : 원소가 많아질수록 파이썬의 리스트보다 배열의 연산이 빠르다. \n",
        "* 편리하다. : 배열을 다루는데 필요한 메소드들이 구현되어있다.\n",
        "* 상용된다. : 여러가지 환경에서 사용이 용이하다.\n",
        "\n",
        "\n",
        "\n",
        "\n"
      ]
    },
    {
      "cell_type": "code",
      "metadata": {
        "id": "7aINq5XZtem_",
        "colab_type": "code",
        "colab": {}
      },
      "source": [
        "# 넘파이 라이브러리 호출하기\n",
        "import numpy as np"
      ],
      "execution_count": null,
      "outputs": []
    },
    {
      "cell_type": "markdown",
      "metadata": {
        "id": "AUzX9GVCtWV2",
        "colab_type": "text"
      },
      "source": [
        "## 넘파이(Numpy)의 핵심, 배열(array)\n",
        "\n",
        "### 1. 넘파이(Numpy)의 핵심인 배열(array)은\n",
        "* 넘파이(Numpy)패키지의 ndarray클래스이다.\n",
        "* 여러개의 데이터를 담고 있는 컨테이너형 자료구조이다.\n",
        "* 동일한 데이터타입의 원소를 갖는 다차원배열이다.\n",
        "\n",
        "### 2. 배열와 리스트의 비교 \n",
        "* 위치에 대한 정보(index)로 요소를 가져오는 인덱싱(indexing) 비교 ex) 0번행과 2번행 불러오기\n",
        "* 여러개의 요소를 집계하여 하나의 값으로 결과를 내는 집계연산 비교 ex) 각 행별 총합 구하기\n",
        "* 각 요소별로 연산을 적용하는 요소간(element-wise) 연산 비교 ex) 각 요소별 1000과의 차이 구하기\n",
        "\n",
        "위의 3가지를 리스트와 배열로써 비교하면 리스트에서는 불가능하거나 for문으로 작성해야하는 번거로움이 발생하나 배열에서는 손쉽게 작성할 수 있다.\n"
      ]
    },
    {
      "cell_type": "code",
      "metadata": {
        "id": "Hc89QWyrwMdB",
        "colab_type": "code",
        "colab": {
          "base_uri": "https://localhost:8080/",
          "height": 34
        },
        "outputId": "c22710ab-2419-4cb3-b3fe-fae69989a88f"
      },
      "source": [
        "py_list = [\n",
        "           [1,2,3],\n",
        "           [10,20,30],\n",
        "           [100,200,300]\n",
        "]\n",
        "py_list"
      ],
      "execution_count": null,
      "outputs": [
        {
          "output_type": "execute_result",
          "data": {
            "text/plain": [
              "[[1, 2, 3], [10, 20, 30], [100, 200, 300]]"
            ]
          },
          "metadata": {
            "tags": []
          },
          "execution_count": 2
        }
      ]
    },
    {
      "cell_type": "code",
      "metadata": {
        "id": "GMkV_TwCwfon",
        "colab_type": "code",
        "colab": {
          "base_uri": "https://localhost:8080/",
          "height": 68
        },
        "outputId": "b9c054a3-4570-4992-9ca3-dc9df6d6094e"
      },
      "source": [
        "np_array = np.array(py_list)\n",
        "np_array"
      ],
      "execution_count": null,
      "outputs": [
        {
          "output_type": "execute_result",
          "data": {
            "text/plain": [
              "array([[  1,   2,   3],\n",
              "       [ 10,  20,  30],\n",
              "       [100, 200, 300]])"
            ]
          },
          "metadata": {
            "tags": []
          },
          "execution_count": 4
        }
      ]
    },
    {
      "cell_type": "code",
      "metadata": {
        "id": "6P3DbZpwwoOP",
        "colab_type": "code",
        "colab": {
          "base_uri": "https://localhost:8080/",
          "height": 34
        },
        "outputId": "40eadede-a09d-4c0a-8892-6b35b50c8ac6"
      },
      "source": [
        "# 0번행과 2번행 불러오기 - 리스트\n",
        "# py_list[[0,2]] 불가능\n",
        "[py_list[0],py_list[2]]"
      ],
      "execution_count": null,
      "outputs": [
        {
          "output_type": "execute_result",
          "data": {
            "text/plain": [
              "[[1, 2, 3], [100, 200, 300]]"
            ]
          },
          "metadata": {
            "tags": []
          },
          "execution_count": 7
        }
      ]
    },
    {
      "cell_type": "code",
      "metadata": {
        "id": "uBPauLIjw4y5",
        "colab_type": "code",
        "colab": {
          "base_uri": "https://localhost:8080/",
          "height": 51
        },
        "outputId": "9c6edb31-aa4b-49a7-b0fc-6617f0aa0fac"
      },
      "source": [
        "# 0번행과 2번행 불러오기 - 배열\n",
        "np_array[[0,2]]"
      ],
      "execution_count": null,
      "outputs": [
        {
          "output_type": "execute_result",
          "data": {
            "text/plain": [
              "array([[  1,   2,   3],\n",
              "       [100, 200, 300]])"
            ]
          },
          "metadata": {
            "tags": []
          },
          "execution_count": 6
        }
      ]
    },
    {
      "cell_type": "code",
      "metadata": {
        "id": "ScQ33ph5xFO5",
        "colab_type": "code",
        "colab": {
          "base_uri": "https://localhost:8080/",
          "height": 34
        },
        "outputId": "a4f6140d-656c-4a10-8311-ca3b3024c26e"
      },
      "source": [
        "# 각 행별 총합 구하기 - 리스트\n",
        "[sum(row_list) for row_list in py_list]"
      ],
      "execution_count": null,
      "outputs": [
        {
          "output_type": "execute_result",
          "data": {
            "text/plain": [
              "[6, 60, 600]"
            ]
          },
          "metadata": {
            "tags": []
          },
          "execution_count": 8
        }
      ]
    },
    {
      "cell_type": "code",
      "metadata": {
        "id": "_Ipn1LQxxiAb",
        "colab_type": "code",
        "colab": {
          "base_uri": "https://localhost:8080/",
          "height": 34
        },
        "outputId": "66d1de27-f2c0-46e7-fe36-736274bea48e"
      },
      "source": [
        "# 각 행별 총합 구하기 - 배열\n",
        "np_array.sum(axis=1)"
      ],
      "execution_count": null,
      "outputs": [
        {
          "output_type": "execute_result",
          "data": {
            "text/plain": [
              "array([  6,  60, 600])"
            ]
          },
          "metadata": {
            "tags": []
          },
          "execution_count": 9
        }
      ]
    },
    {
      "cell_type": "code",
      "metadata": {
        "id": "FIR7oZwexnim",
        "colab_type": "code",
        "colab": {
          "base_uri": "https://localhost:8080/",
          "height": 34
        },
        "outputId": "8793531f-424c-4272-a86a-bf746f53d127"
      },
      "source": [
        "# 각 요소별 1000과의 차이 구하기 - 리스트\n",
        "[[1000 - v for v in row_list] for row_list in py_list]"
      ],
      "execution_count": null,
      "outputs": [
        {
          "output_type": "execute_result",
          "data": {
            "text/plain": [
              "[[999, 998, 997], [990, 980, 970], [900, 800, 700]]"
            ]
          },
          "metadata": {
            "tags": []
          },
          "execution_count": 10
        }
      ]
    },
    {
      "cell_type": "code",
      "metadata": {
        "id": "nBXInAlCx_dI",
        "colab_type": "code",
        "colab": {
          "base_uri": "https://localhost:8080/",
          "height": 68
        },
        "outputId": "c7439afe-dafa-4472-aa12-bfa3644fe5cb"
      },
      "source": [
        "# 각 요소별 1000과의 차이 구하기 - 배열\n",
        "1000 - np_array"
      ],
      "execution_count": null,
      "outputs": [
        {
          "output_type": "execute_result",
          "data": {
            "text/plain": [
              "array([[999, 998, 997],\n",
              "       [990, 980, 970],\n",
              "       [900, 800, 700]])"
            ]
          },
          "metadata": {
            "tags": []
          },
          "execution_count": 11
        }
      ]
    },
    {
      "cell_type": "markdown",
      "metadata": {
        "id": "gML02_asyGm5",
        "colab_type": "text"
      },
      "source": [
        "## Numpy 배열의 구성요소 \n",
        "### 1. Numpy배열(Array)는\n",
        "* 원소(elements), 자료형(Data-type), 모양(shape)으로 구성되어있다.\n",
        "* 고유한 구성요소 조합은 배열(array)를 결정한다.\n",
        "* 정의된 배열에서 원소(elements)의 개수는 바꿀수 없다.\n",
        "\n",
        "\n"
      ]
    },
    {
      "cell_type": "code",
      "metadata": {
        "id": "m55b_uArzFdW",
        "colab_type": "code",
        "colab": {}
      },
      "source": [
        "# 원소, 자료형, 모양 확인\n",
        "py_list = [[1,2,3],[10,20,30],[100,200,300]]\n",
        "ary = np.array(py_list)"
      ],
      "execution_count": null,
      "outputs": []
    },
    {
      "cell_type": "code",
      "metadata": {
        "id": "9r92Bdh6zdws",
        "colab_type": "code",
        "colab": {
          "base_uri": "https://localhost:8080/",
          "height": 68
        },
        "outputId": "edac4d93-48b8-4f24-936d-864fa91bd2b7"
      },
      "source": [
        "print(f'원소의 개수(size) : {ary.size}')\n",
        "print(f'자료형(dtype) : {ary.dtype}')\n",
        "print(f'모양(shape) : {ary.shape}')"
      ],
      "execution_count": null,
      "outputs": [
        {
          "output_type": "stream",
          "text": [
            "원소의 개수(size) : 9\n",
            "자료형(dtype) : int64\n",
            "모양(shape) : (3, 3)\n"
          ],
          "name": "stdout"
        }
      ]
    },
    {
      "cell_type": "markdown",
      "metadata": {
        "id": "7GGbFCAYz_Kh",
        "colab_type": "text"
      },
      "source": [
        "### 2. 원소의 개수는 바꿀 수 없다.\n",
        "* ndarray 클래스의 메소드에는 원소의 개수가 바뀌는 메소드가 없다.\n"
      ]
    },
    {
      "cell_type": "code",
      "metadata": {
        "id": "6je2X8_oze-G",
        "colab_type": "code",
        "colab": {
          "base_uri": "https://localhost:8080/",
          "height": 34
        },
        "outputId": "deb9063d-6668-4892-fe06-8a0cc4b1a7c0"
      },
      "source": [
        "# 리스트에서 원소의 개수를 추가하면\n",
        "py_list.append([1000,2000,3000])\n",
        "py_list"
      ],
      "execution_count": null,
      "outputs": [
        {
          "output_type": "execute_result",
          "data": {
            "text/plain": [
              "[[1, 2, 3], [10, 20, 30], [100, 200, 300], [1000, 2000, 3000]]"
            ]
          },
          "metadata": {
            "tags": []
          },
          "execution_count": 15
        }
      ]
    },
    {
      "cell_type": "code",
      "metadata": {
        "id": "XQr3eG080eed",
        "colab_type": "code",
        "colab": {
          "base_uri": "https://localhost:8080/",
          "height": 181
        },
        "outputId": "626c3a18-7b0a-4b66-807e-149b0bdc19c5"
      },
      "source": [
        "# 배열에서도 append 메소드를 사용한다면\n",
        "ary.append([1000,2000,3000]) # 오류가 발생한다."
      ],
      "execution_count": null,
      "outputs": [
        {
          "output_type": "error",
          "ename": "AttributeError",
          "evalue": "ignored",
          "traceback": [
            "\u001b[0;31m---------------------------------------------------------------------------\u001b[0m",
            "\u001b[0;31mAttributeError\u001b[0m                            Traceback (most recent call last)",
            "\u001b[0;32m<ipython-input-16-e2142273fd30>\u001b[0m in \u001b[0;36m<module>\u001b[0;34m()\u001b[0m\n\u001b[1;32m      1\u001b[0m \u001b[0;31m# 배열에서도 append 메소드를 사용한다면\u001b[0m\u001b[0;34m\u001b[0m\u001b[0;34m\u001b[0m\u001b[0;34m\u001b[0m\u001b[0m\n\u001b[0;32m----> 2\u001b[0;31m \u001b[0mary\u001b[0m\u001b[0;34m.\u001b[0m\u001b[0mappend\u001b[0m\u001b[0;34m(\u001b[0m\u001b[0;34m[\u001b[0m\u001b[0;36m1000\u001b[0m\u001b[0;34m,\u001b[0m\u001b[0;36m2000\u001b[0m\u001b[0;34m,\u001b[0m\u001b[0;36m3000\u001b[0m\u001b[0;34m]\u001b[0m\u001b[0;34m)\u001b[0m\u001b[0;34m\u001b[0m\u001b[0;34m\u001b[0m\u001b[0m\n\u001b[0m",
            "\u001b[0;31mAttributeError\u001b[0m: 'numpy.ndarray' object has no attribute 'append'"
          ]
        }
      ]
    },
    {
      "cell_type": "code",
      "metadata": {
        "id": "6xDzYHfK0smF",
        "colab_type": "code",
        "colab": {
          "base_uri": "https://localhost:8080/",
          "height": 85
        },
        "outputId": "7e04cd7b-40d8-43b7-ee3e-d5750f98a984"
      },
      "source": [
        "# 배열에서 원소의 개수를 추가하려면\n",
        "ary = np.append(ary, [[1000,2000,3000]], axis=0)\n",
        "ary\n",
        "# np에서 새로 정의후 저장해야한다."
      ],
      "execution_count": null,
      "outputs": [
        {
          "output_type": "execute_result",
          "data": {
            "text/plain": [
              "array([[   1,    2,    3],\n",
              "       [  10,   20,   30],\n",
              "       [ 100,  200,  300],\n",
              "       [1000, 2000, 3000]])"
            ]
          },
          "metadata": {
            "tags": []
          },
          "execution_count": 17
        }
      ]
    },
    {
      "cell_type": "markdown",
      "metadata": {
        "id": "YzUr5k9F1Po5",
        "colab_type": "text"
      },
      "source": [
        "## 배열의 자료형(Data Type)\n",
        "### 1. 배열의 자료형(dtype ; data type)은\n",
        "* 배열에 포함된 원소들의 자료형이다. \n",
        "* 하나의 배열은 하나의 자료형을 갖는다.\n",
        "* 그러므로 배열의 모든원소값은 동일한 자료형을 갖는다.\n",
        "* 매개변수와 속성명으로 dtype을 쓴다."
      ]
    },
    {
      "cell_type": "code",
      "metadata": {
        "id": "Oog2aZv618Rj",
        "colab_type": "code",
        "colab": {
          "base_uri": "https://localhost:8080/",
          "height": 34
        },
        "outputId": "1b9afb65-c89b-425e-e23c-b6d73d036b0c"
      },
      "source": [
        "# 배열 자료형(dtype) 확인하기\n",
        "ary.dtype"
      ],
      "execution_count": null,
      "outputs": [
        {
          "output_type": "execute_result",
          "data": {
            "text/plain": [
              "dtype('int64')"
            ]
          },
          "metadata": {
            "tags": []
          },
          "execution_count": 18
        }
      ]
    },
    {
      "cell_type": "markdown",
      "metadata": {
        "id": "h69NzFDf2QvK",
        "colab_type": "text"
      },
      "source": [
        "### 2. 자동으로 설정되는 배열의 자료형\n",
        "* 배열 생성시, 입력한 원소들의 자료형을 파악하여 자동으로 설정\n"
      ]
    },
    {
      "cell_type": "code",
      "metadata": {
        "id": "CWhzoFch2HjM",
        "colab_type": "code",
        "colab": {
          "base_uri": "https://localhost:8080/",
          "height": 34
        },
        "outputId": "b8d65479-0d55-4403-b2cc-5d31a915034f"
      },
      "source": [
        "# 서로 다른 자료형을 원소로 갖는 리스트\n",
        "py_list = [1, 1.2, False]\n",
        "py_list"
      ],
      "execution_count": null,
      "outputs": [
        {
          "output_type": "execute_result",
          "data": {
            "text/plain": [
              "[1, 1.2, False]"
            ]
          },
          "metadata": {
            "tags": []
          },
          "execution_count": 19
        }
      ]
    },
    {
      "cell_type": "code",
      "metadata": {
        "id": "vvZV7rLr2nmi",
        "colab_type": "code",
        "colab": {
          "base_uri": "https://localhost:8080/",
          "height": 34
        },
        "outputId": "41ab6230-d4aa-4abb-dc3b-10272ddac692"
      },
      "source": [
        "# 서로 다른 자료형을 원소는 배열을 정의하면\n",
        "ary = np.array(py_list)\n",
        "ary"
      ],
      "execution_count": null,
      "outputs": [
        {
          "output_type": "execute_result",
          "data": {
            "text/plain": [
              "array([1. , 1.2, 0. ])"
            ]
          },
          "metadata": {
            "tags": []
          },
          "execution_count": 21
        }
      ]
    },
    {
      "cell_type": "code",
      "metadata": {
        "id": "lkPQjiYR2rPz",
        "colab_type": "code",
        "colab": {
          "base_uri": "https://localhost:8080/",
          "height": 34
        },
        "outputId": "1860c9d7-f9ef-4bf9-a93a-3744b85c8e02"
      },
      "source": [
        "ary.dtype"
      ],
      "execution_count": null,
      "outputs": [
        {
          "output_type": "execute_result",
          "data": {
            "text/plain": [
              "dtype('float64')"
            ]
          },
          "metadata": {
            "tags": []
          },
          "execution_count": 22
        }
      ]
    },
    {
      "cell_type": "markdown",
      "metadata": {
        "id": "n7eVrp0F28l2",
        "colab_type": "text"
      },
      "source": [
        "### 3. ndarray.astype()을 활용한 형변환"
      ]
    },
    {
      "cell_type": "code",
      "metadata": {
        "id": "d3bXCO052253",
        "colab_type": "code",
        "colab": {
          "base_uri": "https://localhost:8080/",
          "height": 34
        },
        "outputId": "04a77271-4de5-4cb1-b04f-59218f38cbb6"
      },
      "source": [
        "# 내장된 자료형을 Numpy에서도 객체로 제공\n",
        "np.float is float"
      ],
      "execution_count": null,
      "outputs": [
        {
          "output_type": "execute_result",
          "data": {
            "text/plain": [
              "True"
            ]
          },
          "metadata": {
            "tags": []
          },
          "execution_count": 23
        }
      ]
    },
    {
      "cell_type": "code",
      "metadata": {
        "id": "EEzDJLld3UlK",
        "colab_type": "code",
        "colab": {
          "base_uri": "https://localhost:8080/",
          "height": 34
        },
        "outputId": "481d8b38-3d7c-41e6-8628-040c128e05f2"
      },
      "source": [
        "# ary의 자료형 확인\n",
        "ary = np.array([[10,20,30,40,50,60]])\n",
        "ary.dtype"
      ],
      "execution_count": null,
      "outputs": [
        {
          "output_type": "execute_result",
          "data": {
            "text/plain": [
              "dtype('int64')"
            ]
          },
          "metadata": {
            "tags": []
          },
          "execution_count": 24
        }
      ]
    },
    {
      "cell_type": "code",
      "metadata": {
        "id": "cwq5hFjx3iv9",
        "colab_type": "code",
        "colab": {
          "base_uri": "https://localhost:8080/",
          "height": 34
        },
        "outputId": "242e83c3-5f78-4ba1-a73d-22c25651f166"
      },
      "source": [
        "# ary의 형변환\n",
        "ary = ary.astype(np.float)\n",
        "ary"
      ],
      "execution_count": null,
      "outputs": [
        {
          "output_type": "execute_result",
          "data": {
            "text/plain": [
              "array([[10., 20., 30., 40., 50., 60.]])"
            ]
          },
          "metadata": {
            "tags": []
          },
          "execution_count": 25
        }
      ]
    },
    {
      "cell_type": "code",
      "metadata": {
        "id": "QPlDkS2j3sy_",
        "colab_type": "code",
        "colab": {
          "base_uri": "https://localhost:8080/",
          "height": 34
        },
        "outputId": "e4353dc0-00b2-49b6-cfe8-8818d1f06b06"
      },
      "source": [
        "ary.dtype"
      ],
      "execution_count": null,
      "outputs": [
        {
          "output_type": "execute_result",
          "data": {
            "text/plain": [
              "dtype('float64')"
            ]
          },
          "metadata": {
            "tags": []
          },
          "execution_count": 26
        }
      ]
    },
    {
      "cell_type": "markdown",
      "metadata": {
        "id": "0SFQILO-3ydL",
        "colab_type": "text"
      },
      "source": [
        "### 4. 정보를 손실하는 형변환(type-casting)\n",
        "* 적은 정보를 가진 자료형으로 형변환 했을 경우\n"
      ]
    },
    {
      "cell_type": "code",
      "metadata": {
        "id": "H6R5X1gD3wEh",
        "colab_type": "code",
        "colab": {
          "base_uri": "https://localhost:8080/",
          "height": 34
        },
        "outputId": "3efffa3f-d41b-4cb0-cd8f-4938cc8f9a68"
      },
      "source": [
        "ary = np.array([[10.,20.,30.,40.,50.,60.]])\n",
        "ary.dtype"
      ],
      "execution_count": null,
      "outputs": [
        {
          "output_type": "execute_result",
          "data": {
            "text/plain": [
              "dtype('float64')"
            ]
          },
          "metadata": {
            "tags": []
          },
          "execution_count": 27
        }
      ]
    },
    {
      "cell_type": "code",
      "metadata": {
        "id": "rhOcqIru4F8E",
        "colab_type": "code",
        "colab": {
          "base_uri": "https://localhost:8080/",
          "height": 34
        },
        "outputId": "c30ed4e9-4d3c-4823-d494-79d92948da88"
      },
      "source": [
        "ary = ary.astype(np.bool)\n",
        "ary"
      ],
      "execution_count": null,
      "outputs": [
        {
          "output_type": "execute_result",
          "data": {
            "text/plain": [
              "array([[ True,  True,  True,  True,  True,  True]])"
            ]
          },
          "metadata": {
            "tags": []
          },
          "execution_count": 28
        }
      ]
    },
    {
      "cell_type": "code",
      "metadata": {
        "id": "UTJJr7LI4MB6",
        "colab_type": "code",
        "colab": {
          "base_uri": "https://localhost:8080/",
          "height": 34
        },
        "outputId": "ec663c3f-6829-4d45-b711-e3cb20fa6507"
      },
      "source": [
        "ary.dtype"
      ],
      "execution_count": null,
      "outputs": [
        {
          "output_type": "execute_result",
          "data": {
            "text/plain": [
              "dtype('bool')"
            ]
          },
          "metadata": {
            "tags": []
          },
          "execution_count": 29
        }
      ]
    },
    {
      "cell_type": "code",
      "metadata": {
        "id": "CNU6VzKk4P1B",
        "colab_type": "code",
        "colab": {
          "base_uri": "https://localhost:8080/",
          "height": 34
        },
        "outputId": "64512d9c-0647-46e5-c15d-d2b9203a61e5"
      },
      "source": [
        "# 민약 다시 float으로 형변환 한다면, 당연하겠지만 정보 손실이 발생한다.\n",
        "ary = ary.astype(np.float)\n",
        "ary"
      ],
      "execution_count": null,
      "outputs": [
        {
          "output_type": "execute_result",
          "data": {
            "text/plain": [
              "array([[1., 1., 1., 1., 1., 1.]])"
            ]
          },
          "metadata": {
            "tags": []
          },
          "execution_count": 30
        }
      ]
    },
    {
      "cell_type": "code",
      "metadata": {
        "id": "idoDS6jc4fRK",
        "colab_type": "code",
        "colab": {
          "base_uri": "https://localhost:8080/",
          "height": 34
        },
        "outputId": "b636e8f0-bd97-4a13-d427-a90b15570af0"
      },
      "source": [
        "ary.dtype"
      ],
      "execution_count": null,
      "outputs": [
        {
          "output_type": "execute_result",
          "data": {
            "text/plain": [
              "dtype('float64')"
            ]
          },
          "metadata": {
            "tags": []
          },
          "execution_count": 31
        }
      ]
    },
    {
      "cell_type": "markdown",
      "metadata": {
        "id": "cAGD11pY4wlC",
        "colab_type": "text"
      },
      "source": [
        "### 5. Numpy만의 자료형 객체는 왜 필요할까?\n"
      ]
    },
    {
      "cell_type": "code",
      "metadata": {
        "id": "eJXe80sN4hHz",
        "colab_type": "code",
        "colab": {
          "base_uri": "https://localhost:8080/",
          "height": 34
        },
        "outputId": "02658c3c-a8c7-496c-9cf4-a509c480d84d"
      },
      "source": [
        "# 만약, 배열 내 원소들의 값이 0부터 255사이의 실수로만 존재한다면\n",
        "ary = np.array([0.,1.,2.,3.,4.])\n",
        "ary"
      ],
      "execution_count": null,
      "outputs": [
        {
          "output_type": "execute_result",
          "data": {
            "text/plain": [
              "array([0., 1., 2., 3., 4.])"
            ]
          },
          "metadata": {
            "tags": []
          },
          "execution_count": 32
        }
      ]
    },
    {
      "cell_type": "code",
      "metadata": {
        "id": "aq_Zu00t5OZq",
        "colab_type": "code",
        "colab": {
          "base_uri": "https://localhost:8080/",
          "height": 34
        },
        "outputId": "8faace88-b66b-4784-e136-50fc125bbb2d"
      },
      "source": [
        "ary.dtype"
      ],
      "execution_count": null,
      "outputs": [
        {
          "output_type": "execute_result",
          "data": {
            "text/plain": [
              "dtype('float64')"
            ]
          },
          "metadata": {
            "tags": []
          },
          "execution_count": 33
        }
      ]
    },
    {
      "cell_type": "code",
      "metadata": {
        "id": "aEVmFMH95Qaz",
        "colab_type": "code",
        "colab": {
          "base_uri": "https://localhost:8080/",
          "height": 34
        },
        "outputId": "da93066b-c7e8-44bd-feb2-36e94dfb7132"
      },
      "source": [
        "# 배열이 저장된 메모리의 크기(byte 단위)\n",
        "ary.nbytes"
      ],
      "execution_count": null,
      "outputs": [
        {
          "output_type": "execute_result",
          "data": {
            "text/plain": [
              "40"
            ]
          },
          "metadata": {
            "tags": []
          },
          "execution_count": 34
        }
      ]
    },
    {
      "cell_type": "code",
      "metadata": {
        "id": "8xUDMrj95S2U",
        "colab_type": "code",
        "colab": {
          "base_uri": "https://localhost:8080/",
          "height": 34
        },
        "outputId": "e37b44b8-1fe7-498d-f333-b52aab0e1706"
      },
      "source": [
        "# ary의 자료형을 np.unit8로 바꾸어주면\n",
        "ary = ary.astype(np.uint8)\n",
        "ary"
      ],
      "execution_count": null,
      "outputs": [
        {
          "output_type": "execute_result",
          "data": {
            "text/plain": [
              "array([0, 1, 2, 3, 4], dtype=uint8)"
            ]
          },
          "metadata": {
            "tags": []
          },
          "execution_count": 35
        }
      ]
    },
    {
      "cell_type": "code",
      "metadata": {
        "id": "fAFvNetU5tJE",
        "colab_type": "code",
        "colab": {
          "base_uri": "https://localhost:8080/",
          "height": 34
        },
        "outputId": "bf9fc9b5-e7d5-4d97-c18a-35f3a5bca17e"
      },
      "source": [
        "# 저장된 메모리를 크게 아낄 수 있다.\n",
        "ary.nbytes"
      ],
      "execution_count": null,
      "outputs": [
        {
          "output_type": "execute_result",
          "data": {
            "text/plain": [
              "5"
            ]
          },
          "metadata": {
            "tags": []
          },
          "execution_count": 36
        }
      ]
    },
    {
      "cell_type": "markdown",
      "metadata": {
        "id": "svaeIQqj57n_",
        "colab_type": "text"
      },
      "source": [
        "## 배열의 모양(shape)\n",
        "### 1. 배열의 모양(shape)은\n",
        "* 다차원으로 구성된 원소들의 배열구조를 나타낸다.\n",
        "* 하나의 배열은 하나의 모양(shape)을 갖는다.\n",
        "* 매개변수와 속성명으로 shape를 쓴다.\n",
        "* 차원(dimension), 축(axis), 각 축에서 원소의 개수로 결정된다.\n"
      ]
    },
    {
      "cell_type": "code",
      "metadata": {
        "id": "lc_pv6eq6tqK",
        "colab_type": "code",
        "colab": {
          "base_uri": "https://localhost:8080/",
          "height": 34
        },
        "outputId": "5f9f71e4-b54d-45af-d5bf-7793816ac95f"
      },
      "source": [
        "# 배열의 모양확인하기\n",
        "ary = np.array([10,20,30,40,50,60])\n",
        "ary.shape"
      ],
      "execution_count": null,
      "outputs": [
        {
          "output_type": "execute_result",
          "data": {
            "text/plain": [
              "(6,)"
            ]
          },
          "metadata": {
            "tags": []
          },
          "execution_count": 37
        }
      ]
    },
    {
      "cell_type": "code",
      "metadata": {
        "id": "hHbFigII62-i",
        "colab_type": "code",
        "colab": {
          "base_uri": "https://localhost:8080/",
          "height": 34
        },
        "outputId": "0dfe652d-9555-45e4-9f88-997cd0757284"
      },
      "source": [
        "ary = np.array([\n",
        "                [10,20,30],\n",
        "                [40,50,60]\n",
        "])\n",
        "ary.shape"
      ],
      "execution_count": null,
      "outputs": [
        {
          "output_type": "execute_result",
          "data": {
            "text/plain": [
              "(2, 3)"
            ]
          },
          "metadata": {
            "tags": []
          },
          "execution_count": 38
        }
      ]
    },
    {
      "cell_type": "markdown",
      "metadata": {
        "id": "fWCgaWAg7Kvf",
        "colab_type": "text"
      },
      "source": [
        "### 2. 모양을 나타낸 튜플(m, n)에서\n",
        "* 튜플의 원소의 개수는 차원(dimension)\n",
        "* 튜플의 원소의 인덱스는 축(axis)\n",
        "* 튜플의 원소의 값은 각 축에서의 원소의 개수를 나타낸다.\n",
        "\n",
        "### 3. 배열의 모양의 조건\n",
        "* 각 축을 구성하는 원소의 갯수가 같아야 한다."
      ]
    },
    {
      "cell_type": "markdown",
      "metadata": {
        "id": "qdEl8O479ITJ",
        "colab_type": "text"
      },
      "source": [
        "## 배열의 차원(dimension)\n",
        "### 1. 배열의 차원(dimension)은\n",
        "* 원소의 위치를 나타내기 위해 필요한 축(axis)의 개수이다.\n",
        "* ' [ ' 와 ' ] ' 으로 구분한다.\n",
        "* 매개변수와 속성명으로 ndim을 쓴다.\n",
        "* 배열의 구조에서는 '원소의 원소'와 같이 겹으로 구성된 배열의 깊이이다.\n"
      ]
    },
    {
      "cell_type": "code",
      "metadata": {
        "id": "dMyTmVeN-IjY",
        "colab_type": "code",
        "colab": {
          "base_uri": "https://localhost:8080/",
          "height": 51
        },
        "outputId": "1f3adeeb-7f3b-4d81-db24-3af85917877d"
      },
      "source": [
        "# 차원 확인하기 ndim\n",
        "print(f'shape : {np.array(0).shape} 에서')\n",
        "np.array(0).ndim"
      ],
      "execution_count": null,
      "outputs": [
        {
          "output_type": "stream",
          "text": [
            "shape : () 에서\n"
          ],
          "name": "stdout"
        },
        {
          "output_type": "execute_result",
          "data": {
            "text/plain": [
              "0"
            ]
          },
          "metadata": {
            "tags": []
          },
          "execution_count": 39
        }
      ]
    },
    {
      "cell_type": "code",
      "metadata": {
        "id": "_bwWvhOQ-a_6",
        "colab_type": "code",
        "colab": {
          "base_uri": "https://localhost:8080/",
          "height": 51
        },
        "outputId": "f35b07a7-33f2-45b1-c7cd-c48dfcc9db7f"
      },
      "source": [
        "print(f'shape : {np.array([0]).shape} 에서')\n",
        "np.array([0]).ndim"
      ],
      "execution_count": null,
      "outputs": [
        {
          "output_type": "stream",
          "text": [
            "shape : (1,) 에서\n"
          ],
          "name": "stdout"
        },
        {
          "output_type": "execute_result",
          "data": {
            "text/plain": [
              "1"
            ]
          },
          "metadata": {
            "tags": []
          },
          "execution_count": 41
        }
      ]
    },
    {
      "cell_type": "code",
      "metadata": {
        "id": "GW7-Qu5D-pdH",
        "colab_type": "code",
        "colab": {
          "base_uri": "https://localhost:8080/",
          "height": 51
        },
        "outputId": "56d7a53f-7869-4265-f3e9-59241937ee4c"
      },
      "source": [
        "print(f'shape : {np.array([[0]]).shape} 에서')\n",
        "np.array([[0]]).ndim"
      ],
      "execution_count": null,
      "outputs": [
        {
          "output_type": "stream",
          "text": [
            "shape : (1, 1) 에서\n"
          ],
          "name": "stdout"
        },
        {
          "output_type": "execute_result",
          "data": {
            "text/plain": [
              "2"
            ]
          },
          "metadata": {
            "tags": []
          },
          "execution_count": 42
        }
      ]
    },
    {
      "cell_type": "code",
      "metadata": {
        "id": "boE0DMAF-t0R",
        "colab_type": "code",
        "colab": {
          "base_uri": "https://localhost:8080/",
          "height": 51
        },
        "outputId": "5715f5ac-4b03-479d-a639-44a6e29add9b"
      },
      "source": [
        "print(f'shape : {np.array([[[0]]]).shape} 에서')\n",
        "np.array([[[0]]]).ndim"
      ],
      "execution_count": null,
      "outputs": [
        {
          "output_type": "stream",
          "text": [
            "shape : (1, 1, 1) 에서\n"
          ],
          "name": "stdout"
        },
        {
          "output_type": "execute_result",
          "data": {
            "text/plain": [
              "3"
            ]
          },
          "metadata": {
            "tags": []
          },
          "execution_count": 43
        }
      ]
    },
    {
      "cell_type": "markdown",
      "metadata": {
        "id": "g5HdnkG6-2Tn",
        "colab_type": "text"
      },
      "source": [
        "### 2. 1차원 배열(n,)\n",
        "* (n,) 모양을 갖는 1차원 배열, 벡터(vector)\n",
        "\n"
      ]
    },
    {
      "cell_type": "code",
      "metadata": {
        "id": "0IEt50tX-ywu",
        "colab_type": "code",
        "colab": {
          "base_uri": "https://localhost:8080/",
          "height": 34
        },
        "outputId": "64cae73d-50a3-4cbc-93f3-da3bebca96d0"
      },
      "source": [
        "array_1d = np.array([10,20,30,40,50])\n",
        "array_1d"
      ],
      "execution_count": null,
      "outputs": [
        {
          "output_type": "execute_result",
          "data": {
            "text/plain": [
              "array([10, 20, 30, 40, 50])"
            ]
          },
          "metadata": {
            "tags": []
          },
          "execution_count": 44
        }
      ]
    },
    {
      "cell_type": "markdown",
      "metadata": {
        "id": "u1PqLEgU_eFJ",
        "colab_type": "text"
      },
      "source": [
        "### 3. 2차원 배열(m, n)\n",
        "* (m, n) 모양을 갖는 2차원 뱌열, 행렬(Matrix)"
      ]
    },
    {
      "cell_type": "code",
      "metadata": {
        "id": "ppTorGlE_Ynm",
        "colab_type": "code",
        "colab": {
          "base_uri": "https://localhost:8080/",
          "height": 68
        },
        "outputId": "016e65af-083d-4a7c-a5ca-68471ec02190"
      },
      "source": [
        "array_2d = np.array([\n",
        "                     [10,20,30,40,50],\n",
        "                     [20,30,40,50,60],\n",
        "                     [30,40,50,60,70]\n",
        "])\n",
        "array_2d"
      ],
      "execution_count": null,
      "outputs": [
        {
          "output_type": "execute_result",
          "data": {
            "text/plain": [
              "array([[10, 20, 30, 40, 50],\n",
              "       [20, 30, 40, 50, 60],\n",
              "       [30, 40, 50, 60, 70]])"
            ]
          },
          "metadata": {
            "tags": []
          },
          "execution_count": 45
        }
      ]
    },
    {
      "cell_type": "markdown",
      "metadata": {
        "id": "TWkIALgXAUhF",
        "colab_type": "text"
      },
      "source": [
        "### 3차원 이상의 배열(..., d, m, n)\n",
        "* (..., d, m, n)모양을 갖는 다차원 행렬(Multidimensional Matrix), 텐서(Tensor)"
      ]
    },
    {
      "cell_type": "code",
      "metadata": {
        "id": "bJEw0XpmATFg",
        "colab_type": "code",
        "colab": {
          "base_uri": "https://localhost:8080/",
          "height": 136
        },
        "outputId": "1de53d52-ada0-46b9-edcb-dc6509fc4e7b"
      },
      "source": [
        "array_nd = np.array([\n",
        "                     [\n",
        "                      [10,20,30,40,50],\n",
        "                      [20,30,40,50,60],\n",
        "                      [30,40,50,60,70]\n",
        "                     ],\n",
        "                     [\n",
        "                      [10,20,30,40,50],\n",
        "                      [20,30,40,50,60],\n",
        "                      [30,40,50,60,70]\n",
        "                     ]\n",
        "])\n",
        "array_nd"
      ],
      "execution_count": null,
      "outputs": [
        {
          "output_type": "execute_result",
          "data": {
            "text/plain": [
              "array([[[10, 20, 30, 40, 50],\n",
              "        [20, 30, 40, 50, 60],\n",
              "        [30, 40, 50, 60, 70]],\n",
              "\n",
              "       [[10, 20, 30, 40, 50],\n",
              "        [20, 30, 40, 50, 60],\n",
              "        [30, 40, 50, 60, 70]]])"
            ]
          },
          "metadata": {
            "tags": []
          },
          "execution_count": 46
        }
      ]
    },
    {
      "cell_type": "markdown",
      "metadata": {
        "id": "uQhjRXCcNRav",
        "colab_type": "text"
      },
      "source": [
        "## 배열의 축(axis)\n",
        "### 1. 배열의 축(axis)는 \n",
        "* 원소의 위치를 나타낼때 필요한 기준이다.\n",
        "* N차원 배열에서 0부터 N-1까지 N개의 축이 존재한다.\n",
        "* 매개변수명로 axis을 쓴다.\n",
        "* 배열의 구조에서는 깊이의 지표(index)를 의미한다.\n",
        "* 배열에서 인덱싱과 연산의 방향을 나타낼때 사용한다.\n",
        "\n"
      ]
    },
    {
      "cell_type": "markdown",
      "metadata": {
        "id": "f8IgnwvEOBr6",
        "colab_type": "text"
      },
      "source": [
        "### 2. 1차원 배열(벡터)에서의 축(axis)"
      ]
    },
    {
      "cell_type": "code",
      "metadata": {
        "id": "tjz0EFfLM8LX",
        "colab_type": "code",
        "colab": {
          "base_uri": "https://localhost:8080/",
          "height": 34
        },
        "outputId": "17d72cbd-1957-4def-f7a1-d342074f0656"
      },
      "source": [
        "array_1d = np.array([10,20,30,40,50,60])\n",
        "array_1d"
      ],
      "execution_count": null,
      "outputs": [
        {
          "output_type": "execute_result",
          "data": {
            "text/plain": [
              "array([10, 20, 30, 40, 50, 60])"
            ]
          },
          "metadata": {
            "tags": []
          },
          "execution_count": 47
        }
      ]
    },
    {
      "cell_type": "code",
      "metadata": {
        "id": "1mhTI3VRORJL",
        "colab_type": "code",
        "colab": {
          "base_uri": "https://localhost:8080/",
          "height": 34
        },
        "outputId": "aacc78ee-e122-4a22-c295-5c6c9982447a"
      },
      "source": [
        "# (0번 축 원소의 개수 ,)만으로 구성\n",
        "array_1d.shape"
      ],
      "execution_count": null,
      "outputs": [
        {
          "output_type": "execute_result",
          "data": {
            "text/plain": [
              "(6,)"
            ]
          },
          "metadata": {
            "tags": []
          },
          "execution_count": 48
        }
      ]
    },
    {
      "cell_type": "code",
      "metadata": {
        "id": "LwuTfQeyOYMv",
        "colab_type": "code",
        "colab": {
          "base_uri": "https://localhost:8080/",
          "height": 34
        },
        "outputId": "9276b1c1-a3ae-4d17-efc4-73c8b6e9ca45"
      },
      "source": [
        "# 0번 축에서 1번째 값\n",
        "array_1d[1] # 이 배열에서 원소의 위치를 나타낼 때 한개의 축에서의 위치면 된다."
      ],
      "execution_count": null,
      "outputs": [
        {
          "output_type": "execute_result",
          "data": {
            "text/plain": [
              "20"
            ]
          },
          "metadata": {
            "tags": []
          },
          "execution_count": 49
        }
      ]
    },
    {
      "cell_type": "code",
      "metadata": {
        "id": "QVuuSS4AOrac",
        "colab_type": "code",
        "colab": {
          "base_uri": "https://localhost:8080/",
          "height": 34
        },
        "outputId": "1b31c8d3-e6eb-42f4-9450-2e44d22238b4"
      },
      "source": [
        "array_1d.sum(axis = 0)"
      ],
      "execution_count": null,
      "outputs": [
        {
          "output_type": "execute_result",
          "data": {
            "text/plain": [
              "210"
            ]
          },
          "metadata": {
            "tags": []
          },
          "execution_count": 50
        }
      ]
    },
    {
      "cell_type": "code",
      "metadata": {
        "id": "4goxmfmGOvaJ",
        "colab_type": "code",
        "colab": {
          "base_uri": "https://localhost:8080/",
          "height": 283
        },
        "outputId": "99ae2006-9b2a-491c-f922-662b818fa15e"
      },
      "source": [
        "array_1d.sum(axis = 1) # array_1d는 axis가 0까지만 있기 때문에 불가능하다."
      ],
      "execution_count": null,
      "outputs": [
        {
          "output_type": "error",
          "ename": "AxisError",
          "evalue": "ignored",
          "traceback": [
            "\u001b[0;31m---------------------------------------------------------------------------\u001b[0m",
            "\u001b[0;31mAxisError\u001b[0m                                 Traceback (most recent call last)",
            "\u001b[0;32m<ipython-input-51-c2a0d6e91613>\u001b[0m in \u001b[0;36m<module>\u001b[0;34m()\u001b[0m\n\u001b[0;32m----> 1\u001b[0;31m \u001b[0marray_1d\u001b[0m\u001b[0;34m.\u001b[0m\u001b[0msum\u001b[0m\u001b[0;34m(\u001b[0m\u001b[0maxis\u001b[0m \u001b[0;34m=\u001b[0m \u001b[0;36m1\u001b[0m\u001b[0;34m)\u001b[0m \u001b[0;31m# array_1d는 axis가 0까지만 있기 때문에 불가능하다.\u001b[0m\u001b[0;34m\u001b[0m\u001b[0;34m\u001b[0m\u001b[0m\n\u001b[0m",
            "\u001b[0;32m/usr/local/lib/python3.6/dist-packages/numpy/core/_methods.py\u001b[0m in \u001b[0;36m_sum\u001b[0;34m(a, axis, dtype, out, keepdims, initial, where)\u001b[0m\n\u001b[1;32m     36\u001b[0m def _sum(a, axis=None, dtype=None, out=None, keepdims=False,\n\u001b[1;32m     37\u001b[0m          initial=_NoValue, where=True):\n\u001b[0;32m---> 38\u001b[0;31m     \u001b[0;32mreturn\u001b[0m \u001b[0mumr_sum\u001b[0m\u001b[0;34m(\u001b[0m\u001b[0ma\u001b[0m\u001b[0;34m,\u001b[0m \u001b[0maxis\u001b[0m\u001b[0;34m,\u001b[0m \u001b[0mdtype\u001b[0m\u001b[0;34m,\u001b[0m \u001b[0mout\u001b[0m\u001b[0;34m,\u001b[0m \u001b[0mkeepdims\u001b[0m\u001b[0;34m,\u001b[0m \u001b[0minitial\u001b[0m\u001b[0;34m,\u001b[0m \u001b[0mwhere\u001b[0m\u001b[0;34m)\u001b[0m\u001b[0;34m\u001b[0m\u001b[0;34m\u001b[0m\u001b[0m\n\u001b[0m\u001b[1;32m     39\u001b[0m \u001b[0;34m\u001b[0m\u001b[0m\n\u001b[1;32m     40\u001b[0m def _prod(a, axis=None, dtype=None, out=None, keepdims=False,\n",
            "\u001b[0;31mAxisError\u001b[0m: axis 1 is out of bounds for array of dimension 1"
          ]
        }
      ]
    },
    {
      "cell_type": "code",
      "metadata": {
        "id": "A05-MhmKO9MC",
        "colab_type": "code",
        "colab": {
          "base_uri": "https://localhost:8080/",
          "height": 34
        },
        "outputId": "9761e05c-e1ea-46c6-f4f0-40a247730446"
      },
      "source": [
        "# 모양 튜플의 인덱스는 '축'과 동일한 의미를 가진다.\n",
        "array_1d.shape[0]"
      ],
      "execution_count": null,
      "outputs": [
        {
          "output_type": "execute_result",
          "data": {
            "text/plain": [
              "6"
            ]
          },
          "metadata": {
            "tags": []
          },
          "execution_count": 52
        }
      ]
    },
    {
      "cell_type": "markdown",
      "metadata": {
        "id": "DbYcDqcsPQj3",
        "colab_type": "text"
      },
      "source": [
        "### 3. 2차원 배열(행렬)에서의 축(axis)"
      ]
    },
    {
      "cell_type": "code",
      "metadata": {
        "id": "gbISXBymPIgz",
        "colab_type": "code",
        "colab": {
          "base_uri": "https://localhost:8080/",
          "height": 51
        },
        "outputId": "af4eb1de-b71a-4249-a967-336fa5fce7b7"
      },
      "source": [
        "array_2d = np.array([\n",
        "                     [10,20,30],\n",
        "                     [40,50,60]\n",
        "])\n",
        "array_2d"
      ],
      "execution_count": null,
      "outputs": [
        {
          "output_type": "execute_result",
          "data": {
            "text/plain": [
              "array([[10, 20, 30],\n",
              "       [40, 50, 60]])"
            ]
          },
          "metadata": {
            "tags": []
          },
          "execution_count": 53
        }
      ]
    },
    {
      "cell_type": "code",
      "metadata": {
        "id": "MBQZlUJ_Pg5u",
        "colab_type": "code",
        "colab": {
          "base_uri": "https://localhost:8080/",
          "height": 34
        },
        "outputId": "45e33818-cabe-4bec-8cc1-d41046e3f8c9"
      },
      "source": [
        "# 배열의 모양이 (0번 축 원소의 개수, 1번 축 원소의 개수)로 구성\n",
        "array_2d.shape"
      ],
      "execution_count": null,
      "outputs": [
        {
          "output_type": "execute_result",
          "data": {
            "text/plain": [
              "(2, 3)"
            ]
          },
          "metadata": {
            "tags": []
          },
          "execution_count": 54
        }
      ]
    },
    {
      "cell_type": "code",
      "metadata": {
        "id": "zHTvzNC2Pi4z",
        "colab_type": "code",
        "colab": {
          "base_uri": "https://localhost:8080/",
          "height": 34
        },
        "outputId": "db4c6e95-c4e6-4c5f-c20e-9f9107e56bd8"
      },
      "source": [
        "# 0번 축에서 0번째, 1번 축에서 2번째 원소\n",
        "array_2d[0,2]"
      ],
      "execution_count": null,
      "outputs": [
        {
          "output_type": "execute_result",
          "data": {
            "text/plain": [
              "30"
            ]
          },
          "metadata": {
            "tags": []
          },
          "execution_count": 55
        }
      ]
    },
    {
      "cell_type": "code",
      "metadata": {
        "id": "nxH6nYZjQNsL",
        "colab_type": "code",
        "colab": {
          "base_uri": "https://localhost:8080/",
          "height": 51
        },
        "outputId": "54535bbd-b2b0-4188-9ba4-9daa88892502"
      },
      "source": [
        "print(array_2d.sum(axis = 0))\n",
        "print(array_2d[0, :] + array_2d[1, :])"
      ],
      "execution_count": null,
      "outputs": [
        {
          "output_type": "stream",
          "text": [
            "[50 70 90]\n",
            "[50 70 90]\n"
          ],
          "name": "stdout"
        }
      ]
    },
    {
      "cell_type": "code",
      "metadata": {
        "id": "yqwZ4bMLPl8p",
        "colab_type": "code",
        "colab": {
          "base_uri": "https://localhost:8080/",
          "height": 51
        },
        "outputId": "5990fe99-0723-48b0-e8c8-b6710e727a12"
      },
      "source": [
        "print(array_2d.sum(axis = 1))\n",
        "print(array_2d[:, 0] + array_2d[:, 1] + array_2d[:, 2])"
      ],
      "execution_count": null,
      "outputs": [
        {
          "output_type": "stream",
          "text": [
            "[ 60 150]\n",
            "[ 60 150]\n"
          ],
          "name": "stdout"
        }
      ]
    },
    {
      "cell_type": "code",
      "metadata": {
        "id": "PQgz-bFZQGSy",
        "colab_type": "code",
        "colab": {
          "base_uri": "https://localhost:8080/",
          "height": 34
        },
        "outputId": "72471ebc-c644-4a21-9e04-18a93f59c9c8"
      },
      "source": [
        "# 모양 튜플의 인덱스는 '몇번째 축'과 동일한 의미를 가진다.\n",
        "array_2d.shape[0] # 인덱스 0 : 0번재 축의 원소의 개수"
      ],
      "execution_count": null,
      "outputs": [
        {
          "output_type": "execute_result",
          "data": {
            "text/plain": [
              "2"
            ]
          },
          "metadata": {
            "tags": []
          },
          "execution_count": 60
        }
      ]
    },
    {
      "cell_type": "code",
      "metadata": {
        "id": "YcaEkqniQhxH",
        "colab_type": "code",
        "colab": {
          "base_uri": "https://localhost:8080/",
          "height": 34
        },
        "outputId": "227dc792-4fa2-492c-92ef-8c9de839caaa"
      },
      "source": [
        "array_2d.shape[1] # 인덱스 1 : 1번째 축의 원소의 개수"
      ],
      "execution_count": null,
      "outputs": [
        {
          "output_type": "execute_result",
          "data": {
            "text/plain": [
              "3"
            ]
          },
          "metadata": {
            "tags": []
          },
          "execution_count": 61
        }
      ]
    },
    {
      "cell_type": "markdown",
      "metadata": {
        "id": "IMsHaxCdQ4_m",
        "colab_type": "text"
      },
      "source": [
        "### 4. 3차원 배열(텐서)에서의 축(axis)"
      ]
    },
    {
      "cell_type": "code",
      "metadata": {
        "id": "H9i8n2jFQxp8",
        "colab_type": "code",
        "colab": {
          "base_uri": "https://localhost:8080/",
          "height": 102
        },
        "outputId": "d602f6e1-1094-4498-9acd-de21b47c092e"
      },
      "source": [
        "array_nd = np.array([\n",
        "                     [\n",
        "                      [10,20,30],\n",
        "                      [40,50,60]\n",
        "                     ],\n",
        "                     [\n",
        "                      [15,25,35],\n",
        "                      [45,55,65]\n",
        "                     ]\n",
        "])\n",
        "array_nd"
      ],
      "execution_count": null,
      "outputs": [
        {
          "output_type": "execute_result",
          "data": {
            "text/plain": [
              "array([[[10, 20, 30],\n",
              "        [40, 50, 60]],\n",
              "\n",
              "       [[15, 25, 35],\n",
              "        [45, 55, 65]]])"
            ]
          },
          "metadata": {
            "tags": []
          },
          "execution_count": 62
        }
      ]
    },
    {
      "cell_type": "code",
      "metadata": {
        "id": "kf1IM2voRP7a",
        "colab_type": "code",
        "colab": {
          "base_uri": "https://localhost:8080/",
          "height": 34
        },
        "outputId": "7920d21a-be3f-4c8f-ee40-c799d3463fe3"
      },
      "source": [
        "# 배열의 모양이 (0번 축 원소의 개수, 1번 축 원소의 개수, 2번 축 원소의 개수,...)으로 구성\n",
        "array_nd.shape"
      ],
      "execution_count": null,
      "outputs": [
        {
          "output_type": "execute_result",
          "data": {
            "text/plain": [
              "(2, 2, 3)"
            ]
          },
          "metadata": {
            "tags": []
          },
          "execution_count": 63
        }
      ]
    },
    {
      "cell_type": "code",
      "metadata": {
        "id": "URSNAIB0RUC7",
        "colab_type": "code",
        "colab": {
          "base_uri": "https://localhost:8080/",
          "height": 34
        },
        "outputId": "dc859b53-0447-4539-b1ef-11acf5363025"
      },
      "source": [
        "# 0번 축에서 1번째, 1번 축에서 0번째 원소, 2번 축에서 2번째 원소\n",
        "array_nd[1,0,2] # 한 원소의 위치는 세 축에서 원소의 위치로 표현된다."
      ],
      "execution_count": null,
      "outputs": [
        {
          "output_type": "execute_result",
          "data": {
            "text/plain": [
              "35"
            ]
          },
          "metadata": {
            "tags": []
          },
          "execution_count": 65
        }
      ]
    },
    {
      "cell_type": "code",
      "metadata": {
        "id": "OQ2AXkjpR4Uh",
        "colab_type": "code",
        "colab": {
          "base_uri": "https://localhost:8080/",
          "height": 85
        },
        "outputId": "26094503-724a-4633-9168-738a592968c0"
      },
      "source": [
        "display(array_nd.sum(axis=0))\n",
        "array_nd[0, :, :] + array_nd[1, :, :]"
      ],
      "execution_count": null,
      "outputs": [
        {
          "output_type": "display_data",
          "data": {
            "text/plain": [
              "array([[ 25,  45,  65],\n",
              "       [ 85, 105, 125]])"
            ]
          },
          "metadata": {
            "tags": []
          }
        },
        {
          "output_type": "execute_result",
          "data": {
            "text/plain": [
              "array([[ 25,  45,  65],\n",
              "       [ 85, 105, 125]])"
            ]
          },
          "metadata": {
            "tags": []
          },
          "execution_count": 67
        }
      ]
    },
    {
      "cell_type": "code",
      "metadata": {
        "id": "ayYZ7295R-6w",
        "colab_type": "code",
        "colab": {
          "base_uri": "https://localhost:8080/",
          "height": 85
        },
        "outputId": "88f4d109-a53c-46a3-dcd2-fcc63ac16e37"
      },
      "source": [
        "display(array_nd.sum(axis=1))\n",
        "array_nd[:, 0, :] + array_nd[:, 1, :]"
      ],
      "execution_count": null,
      "outputs": [
        {
          "output_type": "display_data",
          "data": {
            "text/plain": [
              "array([[ 50,  70,  90],\n",
              "       [ 60,  80, 100]])"
            ]
          },
          "metadata": {
            "tags": []
          }
        },
        {
          "output_type": "execute_result",
          "data": {
            "text/plain": [
              "array([[ 50,  70,  90],\n",
              "       [ 60,  80, 100]])"
            ]
          },
          "metadata": {
            "tags": []
          },
          "execution_count": 68
        }
      ]
    },
    {
      "cell_type": "code",
      "metadata": {
        "id": "DKbolHC1SgYD",
        "colab_type": "code",
        "colab": {
          "base_uri": "https://localhost:8080/",
          "height": 85
        },
        "outputId": "0a0697c5-8716-4c82-8558-2220a6687851"
      },
      "source": [
        "display(array_nd.sum(axis=2))\n",
        "array_nd[:, :, 0] + array_nd[:, :, 1] + array_nd[:, :, 2]"
      ],
      "execution_count": null,
      "outputs": [
        {
          "output_type": "display_data",
          "data": {
            "text/plain": [
              "array([[ 60, 150],\n",
              "       [ 75, 165]])"
            ]
          },
          "metadata": {
            "tags": []
          }
        },
        {
          "output_type": "execute_result",
          "data": {
            "text/plain": [
              "array([[ 60, 150],\n",
              "       [ 75, 165]])"
            ]
          },
          "metadata": {
            "tags": []
          },
          "execution_count": 69
        }
      ]
    },
    {
      "cell_type": "code",
      "metadata": {
        "id": "1PF4CN_tSzlq",
        "colab_type": "code",
        "colab": {
          "base_uri": "https://localhost:8080/",
          "height": 34
        },
        "outputId": "c65b236f-8cdb-4c11-97b6-ba77abf50de3"
      },
      "source": [
        "# 모양 튜플의 인덱스는 '몇번째 축'과 동일한 의미를 가진다.\n",
        "array_nd.shape[0] # 인덱스 0: 0번째 축의 원소의 개수"
      ],
      "execution_count": null,
      "outputs": [
        {
          "output_type": "execute_result",
          "data": {
            "text/plain": [
              "2"
            ]
          },
          "metadata": {
            "tags": []
          },
          "execution_count": 70
        }
      ]
    },
    {
      "cell_type": "code",
      "metadata": {
        "id": "1J-rbCBCTErN",
        "colab_type": "code",
        "colab": {
          "base_uri": "https://localhost:8080/",
          "height": 34
        },
        "outputId": "4ffaa181-1ce0-4677-8583-5355e3326c11"
      },
      "source": [
        "array_nd.shape[1] # 인덱스 1: 1번째 축의 원소의 개수"
      ],
      "execution_count": null,
      "outputs": [
        {
          "output_type": "execute_result",
          "data": {
            "text/plain": [
              "2"
            ]
          },
          "metadata": {
            "tags": []
          },
          "execution_count": 71
        }
      ]
    },
    {
      "cell_type": "code",
      "metadata": {
        "id": "MnUZE0v9TPKy",
        "colab_type": "code",
        "colab": {
          "base_uri": "https://localhost:8080/",
          "height": 34
        },
        "outputId": "297c320b-7a11-4688-c870-2e03daa8c367"
      },
      "source": [
        "array_nd.shape[2] # 인덱스 2: 2번째 축의 원소의 개수"
      ],
      "execution_count": null,
      "outputs": [
        {
          "output_type": "execute_result",
          "data": {
            "text/plain": [
              "3"
            ]
          },
          "metadata": {
            "tags": []
          },
          "execution_count": 72
        }
      ]
    },
    {
      "cell_type": "markdown",
      "metadata": {
        "id": "h3GV_GuoTiyY",
        "colab_type": "text"
      },
      "source": [
        "## 배열 생성하기 \n",
        "### 1. 배열 생성하기 - 다른 자료로부터 생성\n",
        "* 다른 자료구조를 변환하는 np.array()\n"
      ]
    },
    {
      "cell_type": "code",
      "metadata": {
        "id": "Y0ROF8_6TSC6",
        "colab_type": "code",
        "colab": {
          "base_uri": "https://localhost:8080/",
          "height": 34
        },
        "outputId": "0d09c57b-d48e-4b50-fdbf-d717b2136639"
      },
      "source": [
        "ary = np.array((1,2,3,4,5))\n",
        "ary"
      ],
      "execution_count": null,
      "outputs": [
        {
          "output_type": "execute_result",
          "data": {
            "text/plain": [
              "array([1, 2, 3, 4, 5])"
            ]
          },
          "metadata": {
            "tags": []
          },
          "execution_count": 74
        }
      ]
    },
    {
      "cell_type": "markdown",
      "metadata": {
        "id": "Oei-mOEkWm-G",
        "colab_type": "text"
      },
      "source": [
        "* 기존의 배열을 복사하는 np.copy()"
      ]
    },
    {
      "cell_type": "code",
      "metadata": {
        "id": "KKh7YqnSULEj",
        "colab_type": "code",
        "colab": {
          "base_uri": "https://localhost:8080/",
          "height": 34
        },
        "outputId": "890dce7c-6292-4721-ba6c-10b620c37676"
      },
      "source": [
        "ary_2 = np.copy(ary)\n",
        "ary_2"
      ],
      "execution_count": null,
      "outputs": [
        {
          "output_type": "execute_result",
          "data": {
            "text/plain": [
              "array([1, 2, 3, 4, 5])"
            ]
          },
          "metadata": {
            "tags": []
          },
          "execution_count": 75
        }
      ]
    },
    {
      "cell_type": "markdown",
      "metadata": {
        "id": "16zOtaDUWhkR",
        "colab_type": "text"
      },
      "source": [
        "* ary_3 = ary를 한다면?"
      ]
    },
    {
      "cell_type": "code",
      "metadata": {
        "id": "p0XdffPZUc8R",
        "colab_type": "code",
        "colab": {
          "base_uri": "https://localhost:8080/",
          "height": 34
        },
        "outputId": "8daaf323-d7cb-4da7-cf16-058b9dd2495b"
      },
      "source": [
        "ary_3 = ary"
      ],
      "execution_count": null,
      "outputs": [
        {
          "output_type": "execute_result",
          "data": {
            "text/plain": [
              "array([1, 2, 3, 4, 5])"
            ]
          },
          "metadata": {
            "tags": []
          },
          "execution_count": 76
        }
      ]
    },
    {
      "cell_type": "code",
      "metadata": {
        "id": "iDhMcwM_U0ip",
        "colab_type": "code",
        "colab": {
          "base_uri": "https://localhost:8080/",
          "height": 51
        },
        "outputId": "e2ad45f2-244b-4744-cf1d-44ce1a8bd54c"
      },
      "source": [
        "print(id(ary))\n",
        "print(id(ary_3))"
      ],
      "execution_count": null,
      "outputs": [
        {
          "output_type": "stream",
          "text": [
            "139642648275904\n",
            "139642648275904\n"
          ],
          "name": "stdout"
        }
      ]
    },
    {
      "cell_type": "code",
      "metadata": {
        "id": "AUAMhmV0U6KQ",
        "colab_type": "code",
        "colab": {
          "base_uri": "https://localhost:8080/",
          "height": 34
        },
        "outputId": "a39ab42c-90af-4b17-b289-b10fa6604314"
      },
      "source": [
        "# 같은 위치를 가리킬때 원소값을 바꾼다면\n",
        "ary[0] = 6\n",
        "ary"
      ],
      "execution_count": null,
      "outputs": [
        {
          "output_type": "execute_result",
          "data": {
            "text/plain": [
              "array([6, 2, 3, 4, 5])"
            ]
          },
          "metadata": {
            "tags": []
          },
          "execution_count": 78
        }
      ]
    },
    {
      "cell_type": "code",
      "metadata": {
        "id": "94z2OUHWU-fn",
        "colab_type": "code",
        "colab": {
          "base_uri": "https://localhost:8080/",
          "height": 34
        },
        "outputId": "eb8ee16d-a82c-4cda-d6fb-e1325aff873c"
      },
      "source": [
        "# 두 변수가 모두 바뀐다.\n",
        "ary_3"
      ],
      "execution_count": null,
      "outputs": [
        {
          "output_type": "execute_result",
          "data": {
            "text/plain": [
              "array([6, 2, 3, 4, 5])"
            ]
          },
          "metadata": {
            "tags": []
          },
          "execution_count": 79
        }
      ]
    },
    {
      "cell_type": "code",
      "metadata": {
        "id": "jDLBx0irVAU0",
        "colab_type": "code",
        "colab": {
          "base_uri": "https://localhost:8080/",
          "height": 34
        },
        "outputId": "6815eaf9-16c0-4a9a-8554-81d7855b442f"
      },
      "source": [
        "# copy를 이용하면\n",
        "ary_4 = np.copy(ary)\n",
        "ary_4"
      ],
      "execution_count": null,
      "outputs": [
        {
          "output_type": "execute_result",
          "data": {
            "text/plain": [
              "array([6, 2, 3, 4, 5])"
            ]
          },
          "metadata": {
            "tags": []
          },
          "execution_count": 80
        }
      ]
    },
    {
      "cell_type": "code",
      "metadata": {
        "id": "MoZd0MU7VHVT",
        "colab_type": "code",
        "colab": {
          "base_uri": "https://localhost:8080/",
          "height": 51
        },
        "outputId": "c38febd7-3c20-42a3-e64d-d816f6444187"
      },
      "source": [
        "print(id(ary_4))\n",
        "print(id(ary))"
      ],
      "execution_count": null,
      "outputs": [
        {
          "output_type": "stream",
          "text": [
            "139642648327552\n",
            "139642648275904\n"
          ],
          "name": "stdout"
        }
      ]
    },
    {
      "cell_type": "code",
      "metadata": {
        "id": "sHN8bQEtVOVA",
        "colab_type": "code",
        "colab": {
          "base_uri": "https://localhost:8080/",
          "height": 34
        },
        "outputId": "a3580949-cddf-4f46-b519-44cf50d51345"
      },
      "source": [
        "ary[0] = 1\n",
        "ary"
      ],
      "execution_count": null,
      "outputs": [
        {
          "output_type": "execute_result",
          "data": {
            "text/plain": [
              "array([1, 2, 3, 4, 5])"
            ]
          },
          "metadata": {
            "tags": []
          },
          "execution_count": 82
        }
      ]
    },
    {
      "cell_type": "code",
      "metadata": {
        "id": "0byy7G1PVpGb",
        "colab_type": "code",
        "colab": {
          "base_uri": "https://localhost:8080/",
          "height": 34
        },
        "outputId": "86d4d90d-af5e-4337-a3cf-93ad95492fab"
      },
      "source": [
        "ary_4 # 서로 다른 값을 가진다."
      ],
      "execution_count": null,
      "outputs": [
        {
          "output_type": "execute_result",
          "data": {
            "text/plain": [
              "array([6, 2, 3, 4, 5])"
            ]
          },
          "metadata": {
            "tags": []
          },
          "execution_count": 83
        }
      ]
    },
    {
      "cell_type": "markdown",
      "metadata": {
        "id": "bfrHWpiOV0xk",
        "colab_type": "text"
      },
      "source": [
        "### 2. 배열 생성하기 - 구성요소를 결정하여 생성\n",
        "* 배열은 원소(elements), 자료형(Data-type), 모양(shape)에 의해 결정된다."
      ]
    },
    {
      "cell_type": "markdown",
      "metadata": {
        "id": "QtN4NAjFXNry",
        "colab_type": "text"
      },
      "source": [
        "### 3. 원소의 값이 일전한 배열 생성하기\n",
        "* np.zeros(), np.ones(), np.full()"
      ]
    },
    {
      "cell_type": "code",
      "metadata": {
        "id": "3pUj0678VwKN",
        "colab_type": "code",
        "colab": {
          "base_uri": "https://localhost:8080/",
          "height": 68
        },
        "outputId": "4c21e88d-2cff-47ae-b5fe-ef6182a4af81"
      },
      "source": [
        "# 원소의 값이 모두 0이며, 3행 2열로 구성된 float64 배열\n",
        "np.zeros(shape=(3,2), dtype = np.float64)"
      ],
      "execution_count": null,
      "outputs": [
        {
          "output_type": "execute_result",
          "data": {
            "text/plain": [
              "array([[0., 0.],\n",
              "       [0., 0.],\n",
              "       [0., 0.]])"
            ]
          },
          "metadata": {
            "tags": []
          },
          "execution_count": 84
        }
      ]
    },
    {
      "cell_type": "code",
      "metadata": {
        "id": "N4gignTqXwFa",
        "colab_type": "code",
        "colab": {
          "base_uri": "https://localhost:8080/",
          "height": 68
        },
        "outputId": "fe5b91bf-818d-4a0a-991d-2396bfd02464"
      },
      "source": [
        "# 원소의 값이 모두 1이며, 3행 2열로 구성된 float64 배열\n",
        "np.ones(shape=(3,2), dtype = np.float64)"
      ],
      "execution_count": null,
      "outputs": [
        {
          "output_type": "execute_result",
          "data": {
            "text/plain": [
              "array([[1., 1.],\n",
              "       [1., 1.],\n",
              "       [1., 1.]])"
            ]
          },
          "metadata": {
            "tags": []
          },
          "execution_count": 85
        }
      ]
    },
    {
      "cell_type": "code",
      "metadata": {
        "id": "RnAQr2oQX0u-",
        "colab_type": "code",
        "colab": {
          "base_uri": "https://localhost:8080/",
          "height": 68
        },
        "outputId": "8d3834c4-bfe5-4b4a-90de-8021fa135555"
      },
      "source": [
        "# 원소의 값이 모두 3이며, 3행 2열로 구성된 float64 배열\n",
        "np.full(shape=(3,2), fill_value=3., dtype = np.float64)"
      ],
      "execution_count": null,
      "outputs": [
        {
          "output_type": "execute_result",
          "data": {
            "text/plain": [
              "array([[3., 3.],\n",
              "       [3., 3.],\n",
              "       [3., 3.]])"
            ]
          },
          "metadata": {
            "tags": []
          },
          "execution_count": 86
        }
      ]
    },
    {
      "cell_type": "markdown",
      "metadata": {
        "id": "Z9TRPqG_YQVt",
        "colab_type": "text"
      },
      "source": [
        "### 4. 기존의 배열과 동일한 모양의 배열 생성하기\n",
        "* np.zeros_like(), np.ones_like(), np.full_like()"
      ]
    },
    {
      "cell_type": "code",
      "metadata": {
        "id": "vH9GIB0TX9uC",
        "colab_type": "code",
        "colab": {
          "base_uri": "https://localhost:8080/",
          "height": 68
        },
        "outputId": "0b940fb2-7536-4889-82c3-a7313b9edfa6"
      },
      "source": [
        "#  모양을 본 딴 배열(2,3) 모양의 배열, ary\n",
        "ary = np.array([\n",
        "                [1,2,3],\n",
        "                [4,5,6]\n",
        "])\n",
        "print(ary)\n",
        "print(ary.shape)"
      ],
      "execution_count": null,
      "outputs": [
        {
          "output_type": "stream",
          "text": [
            "[[1 2 3]\n",
            " [4 5 6]]\n",
            "(2, 3)\n"
          ],
          "name": "stdout"
        }
      ]
    },
    {
      "cell_type": "code",
      "metadata": {
        "id": "jtsQp1OSZIXc",
        "colab_type": "code",
        "colab": {
          "base_uri": "https://localhost:8080/",
          "height": 51
        },
        "outputId": "90b69e65-7cb4-4369-d482-18a2109ee91f"
      },
      "source": [
        "# ary와 같은 모양을 가지면서 모든 요소의 값이 0인 배열\n",
        "np.zeros_like(ary, dtype=np.int)"
      ],
      "execution_count": null,
      "outputs": [
        {
          "output_type": "execute_result",
          "data": {
            "text/plain": [
              "array([[0, 0, 0],\n",
              "       [0, 0, 0]])"
            ]
          },
          "metadata": {
            "tags": []
          },
          "execution_count": 88
        }
      ]
    },
    {
      "cell_type": "code",
      "metadata": {
        "id": "MuwQ-fULZau8",
        "colab_type": "code",
        "colab": {
          "base_uri": "https://localhost:8080/",
          "height": 51
        },
        "outputId": "5b8b6321-96df-4348-d607-fcf3d0155a79"
      },
      "source": [
        "# ary와 같은 모양을 가지면서 모든 요소의 값이 1인 배열\n",
        "np.ones_like(ary, dtype=np.int)"
      ],
      "execution_count": null,
      "outputs": [
        {
          "output_type": "execute_result",
          "data": {
            "text/plain": [
              "array([[1, 1, 1],\n",
              "       [1, 1, 1]])"
            ]
          },
          "metadata": {
            "tags": []
          },
          "execution_count": 89
        }
      ]
    },
    {
      "cell_type": "code",
      "metadata": {
        "id": "RwlOtfFpZee1",
        "colab_type": "code",
        "colab": {
          "base_uri": "https://localhost:8080/",
          "height": 51
        },
        "outputId": "e57da37c-fd2c-4308-905a-1e8c8e084411"
      },
      "source": [
        "# ary와 같은 모양을 가지면서 모든 요소의 값이 3인 배열\n",
        "np.full_like(ary, fill_value=3, dtype=np.int)"
      ],
      "execution_count": null,
      "outputs": [
        {
          "output_type": "execute_result",
          "data": {
            "text/plain": [
              "array([[3, 3, 3],\n",
              "       [3, 3, 3]])"
            ]
          },
          "metadata": {
            "tags": []
          },
          "execution_count": 90
        }
      ]
    },
    {
      "cell_type": "markdown",
      "metadata": {
        "id": "MlDOxlpaZrl7",
        "colab_type": "text"
      },
      "source": [
        "### 5. 같은 간격의 값으로 구성된 등간격배열 생성하기\n",
        "* 간격의 크기를 지정하여 등간격 배열을 만드는 np.arange()"
      ]
    },
    {
      "cell_type": "code",
      "metadata": {
        "id": "oDM3_bEoZlIW",
        "colab_type": "code",
        "colab": {
          "base_uri": "https://localhost:8080/",
          "height": 51
        },
        "outputId": "e374a928-8e2d-4705-c613-8fabb79aad7c"
      },
      "source": [
        "# 원소간 1의 간격을 가지고 0부터 20까지의 값을 갖는 등간격배열 만들기\n",
        "np.arange(0,20)"
      ],
      "execution_count": null,
      "outputs": [
        {
          "output_type": "execute_result",
          "data": {
            "text/plain": [
              "array([ 0,  1,  2,  3,  4,  5,  6,  7,  8,  9, 10, 11, 12, 13, 14, 15, 16,\n",
              "       17, 18, 19])"
            ]
          },
          "metadata": {
            "tags": []
          },
          "execution_count": 91
        }
      ]
    },
    {
      "cell_type": "code",
      "metadata": {
        "id": "QOigdQZUaUNn",
        "colab_type": "code",
        "colab": {
          "base_uri": "https://localhost:8080/",
          "height": 34
        },
        "outputId": "117cfaab-fd43-4bc6-e27e-f7e1ddee604e"
      },
      "source": [
        "# 원소간 2의 간격을 가지고 0부터 20까지의 값을 갖는 등간격배열 만들기\n",
        "np.arange(0,20,step=2)"
      ],
      "execution_count": null,
      "outputs": [
        {
          "output_type": "execute_result",
          "data": {
            "text/plain": [
              "array([ 0,  2,  4,  6,  8, 10, 12, 14, 16, 18])"
            ]
          },
          "metadata": {
            "tags": []
          },
          "execution_count": 92
        }
      ]
    },
    {
      "cell_type": "markdown",
      "metadata": {
        "id": "5udEm-UdanGV",
        "colab_type": "text"
      },
      "source": [
        "* 원소의 개수를 지정하여 등간격배열을 만드는 np.linspace()"
      ]
    },
    {
      "cell_type": "code",
      "metadata": {
        "id": "vF8kMZd-albi",
        "colab_type": "code",
        "colab": {
          "base_uri": "https://localhost:8080/",
          "height": 187
        },
        "outputId": "c877ba43-88c3-40fe-da02-f45525f78cc3"
      },
      "source": [
        "# 0부터 20까지의 값을 갖는 50개 원소의 등간격배열 만들기\n",
        "np.linspace(0,20)"
      ],
      "execution_count": null,
      "outputs": [
        {
          "output_type": "execute_result",
          "data": {
            "text/plain": [
              "array([ 0.        ,  0.40816327,  0.81632653,  1.2244898 ,  1.63265306,\n",
              "        2.04081633,  2.44897959,  2.85714286,  3.26530612,  3.67346939,\n",
              "        4.08163265,  4.48979592,  4.89795918,  5.30612245,  5.71428571,\n",
              "        6.12244898,  6.53061224,  6.93877551,  7.34693878,  7.75510204,\n",
              "        8.16326531,  8.57142857,  8.97959184,  9.3877551 ,  9.79591837,\n",
              "       10.20408163, 10.6122449 , 11.02040816, 11.42857143, 11.83673469,\n",
              "       12.24489796, 12.65306122, 13.06122449, 13.46938776, 13.87755102,\n",
              "       14.28571429, 14.69387755, 15.10204082, 15.51020408, 15.91836735,\n",
              "       16.32653061, 16.73469388, 17.14285714, 17.55102041, 17.95918367,\n",
              "       18.36734694, 18.7755102 , 19.18367347, 19.59183673, 20.        ])"
            ]
          },
          "metadata": {
            "tags": []
          },
          "execution_count": 93
        }
      ]
    },
    {
      "cell_type": "code",
      "metadata": {
        "id": "7CtkqMjEa6lG",
        "colab_type": "code",
        "colab": {
          "base_uri": "https://localhost:8080/",
          "height": 51
        },
        "outputId": "cd07e816-419d-43f9-8024-a4610eff50cc"
      },
      "source": [
        "# 0부터 20까지의 값을 갖는 10개 원소의 등간격배열 만들기\n",
        "np.linspace(0,20,num=10)"
      ],
      "execution_count": null,
      "outputs": [
        {
          "output_type": "execute_result",
          "data": {
            "text/plain": [
              "array([ 0.        ,  2.22222222,  4.44444444,  6.66666667,  8.88888889,\n",
              "       11.11111111, 13.33333333, 15.55555556, 17.77777778, 20.        ])"
            ]
          },
          "metadata": {
            "tags": []
          },
          "execution_count": 95
        }
      ]
    },
    {
      "cell_type": "code",
      "metadata": {
        "id": "WiE52FE4bEN7",
        "colab_type": "code",
        "colab": {}
      },
      "source": [
        ""
      ],
      "execution_count": null,
      "outputs": []
    }
  ]
}